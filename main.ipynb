{
 "cells": [
  {
   "cell_type": "markdown",
   "id": "ba96fdcc",
   "metadata": {},
   "source": [
    "# Базовые библиотеки"
   ]
  },
  {
   "cell_type": "code",
   "execution_count": null,
   "id": "7d10e22e",
   "metadata": {},
   "outputs": [],
   "source": [
    "import pandas as pd"
   ]
  },
  {
   "cell_type": "markdown",
   "id": "06f6c6d6",
   "metadata": {},
   "source": [
    "# Извлечение данных"
   ]
  },
  {
   "cell_type": "code",
   "execution_count": null,
   "id": "ab3c1714",
   "metadata": {},
   "outputs": [],
   "source": [
    "import data_extracting"
   ]
  },
  {
   "cell_type": "code",
   "execution_count": null,
   "id": "d1ea8842",
   "metadata": {},
   "outputs": [],
   "source": [
    "data_extracting.extractBoardingData(\"Airlines/BoardingData.csv\").head()"
   ]
  },
  {
   "cell_type": "code",
   "execution_count": null,
   "id": "144e5737",
   "metadata": {},
   "outputs": [],
   "source": [
    "data_extracting.extractAirlinesData(\"PointzAggregator-AirlinesData.xml\").head()"
   ]
  },
  {
   "cell_type": "code",
   "execution_count": null,
   "id": "6bc52264",
   "metadata": {},
   "outputs": [],
   "source": [
    "data_extracting.extractSirenaExportFixed(\"Siren-export-fixed.tab\").head()"
   ]
  },
  {
   "cell_type": "code",
   "execution_count": null,
   "id": "b8a0f091",
   "metadata": {},
   "outputs": [],
   "source": [
    "data_extracting.extractFrequentFlyerForumProfiles('/Users/dmitrij/Desktop/SpyLab/FrequentFlyerForum-Profiles.json')"
   ]
  },
  {
   "cell_type": "code",
   "execution_count": null,
   "id": "73619df3",
   "metadata": {},
   "outputs": [],
   "source": []
  }
 ],
 "metadata": {
  "kernelspec": {
   "display_name": "Python 3 (ipykernel)",
   "language": "python",
   "name": "python3"
  },
  "language_info": {
   "codemirror_mode": {
    "name": "ipython",
    "version": 3
   },
   "file_extension": ".py",
   "mimetype": "text/x-python",
   "name": "python",
   "nbconvert_exporter": "python",
   "pygments_lexer": "ipython3",
   "version": "3.12.5"
  }
 },
 "nbformat": 4,
 "nbformat_minor": 5
}
