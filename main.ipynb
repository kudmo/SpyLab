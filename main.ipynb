{
 "cells": [
  {
   "cell_type": "markdown",
   "id": "ba96fdcc",
   "metadata": {},
   "source": [
    "# Базовые библиотеки"
   ]
  },
  {
   "cell_type": "code",
   "execution_count": null,
   "id": "7d10e22e",
   "metadata": {},
   "outputs": [],
   "source": [
    "import pandas as pd\n",
    "import os\n",
    "import warnings\n",
    "warnings.simplefilter('ignore')"
   ]
  },
  {
   "cell_type": "code",
   "execution_count": null,
   "id": "cff6a998",
   "metadata": {},
   "outputs": [],
   "source": [
    "import data_extracting\n",
    "import merging\n",
    "import visualization"
   ]
  },
  {
   "cell_type": "code",
   "execution_count": null,
   "id": "701e3702",
   "metadata": {},
   "outputs": [],
   "source": [
    "DATA_DIR = 'Airlines'\n",
    "DATA_EXPORTED = 'data'"
   ]
  },
  {
   "cell_type": "markdown",
   "id": "06f6c6d6",
   "metadata": {},
   "source": [
    "# Извлечение данных в формат CSV\n",
    "Запускать только если ещё нет экспортированных данных, так как некоторые функции могут работать существенное время"
   ]
  },
  {
   "cell_type": "code",
   "execution_count": null,
   "id": "d5a283b1",
   "metadata": {},
   "outputs": [],
   "source": [
    "os.mkdir(DATA_EXPORTED)"
   ]
  },
  {
   "cell_type": "code",
   "execution_count": null,
   "id": "2ef67350",
   "metadata": {},
   "outputs": [],
   "source": [
    "data = data_extracting.extractBoardingData(f'{DATA_DIR}/BoardingData.csv')\n",
    "data.to_csv(f'{DATA_EXPORTED}/BoardingData.csv', index=False)\n",
    "del data"
   ]
  },
  {
   "cell_type": "code",
   "execution_count": null,
   "id": "b8a0f091",
   "metadata": {},
   "outputs": [],
   "source": [
    "data = data_extracting.extractAirlinesData(f'{DATA_DIR}/PointzAggregator-AirlinesData.xml')\n",
    "data.to_csv(f'{DATA_EXPORTED}/PointzAggregator-AirlinesData.csv', index=False)\n",
    "del data"
   ]
  },
  {
   "cell_type": "code",
   "execution_count": null,
   "id": "501bafcf",
   "metadata": {},
   "outputs": [],
   "source": [
    "data = data_extracting.extractBoardingPass(f'{DATA_DIR}/YourBoardingPassDotAero.zip', clear_temp = True)\n",
    "data.to_csv(f'{DATA_EXPORTED}/YourBoardingPassDotAero.csv', index=False)\n",
    "del data"
   ]
  },
  {
   "cell_type": "code",
   "execution_count": null,
   "id": "e1e2d834",
   "metadata": {},
   "outputs": [],
   "source": [
    "data = data_extracting.extractFrequentFlyerForumProfiles(f'{DATA_DIR}/FrequentFlyerForum-Profiles.json')\n",
    "data[0].to_csv(f'{DATA_EXPORTED}/FrequentFlyerForum-Profiles_Base.csv', index=False)\n",
    "data[1].to_csv(f'{DATA_EXPORTED}/FrequentFlyerForum-Profiles_Flight.csv', index=False)\n",
    "data[2].to_csv(f'{DATA_EXPORTED}/FrequentFlyerForum-Profiles_LoyalityProgram.csv', index=False)\n",
    "del data"
   ]
  },
  {
   "cell_type": "code",
   "execution_count": null,
   "id": "83f87482",
   "metadata": {},
   "outputs": [],
   "source": [
    "data = data_extracting.extractSirenaExportFixed(f'{DATA_DIR}/Sirena-export-fixed.tab')\n",
    "data.to_csv(f'{DATA_EXPORTED}/Sirena-export-fixed.csv', index=False)\n",
    "del data"
   ]
  },
  {
   "cell_type": "code",
   "execution_count": null,
   "id": "53dd6dcb",
   "metadata": {},
   "outputs": [],
   "source": [
    "data = data_extracting.extractSkyTeamExchange(f'{DATA_DIR}/SkyTeam-Exchange.yaml')\n",
    "data.to_csv(f'{DATA_EXPORTED}/SkyTeam-Exchange.csv', index=False)\n",
    "del data"
   ]
  },
  {
   "cell_type": "code",
   "execution_count": null,
   "id": "c8be9cd8",
   "metadata": {},
   "outputs": [],
   "source": [
    "data = data_extracting.extractSkyteamTimetable(f'{DATA_DIR}/Skyteam_Timetable.pdf')\n",
    "data.to_csv(f'{DATA_EXPORTED}/Skyteam_Timetable.csv', index=False)\n",
    "del data"
   ]
  },
  {
   "cell_type": "markdown",
   "id": "2adda338",
   "metadata": {},
   "source": [
    "# Обработка данных"
   ]
  },
  {
   "cell_type": "markdown",
   "id": "2a833345",
   "metadata": {},
   "source": [
    "## 1. Обработка данных, с паспортами\n",
    "Слияние, очистка и обработка данных из [этого](data/Sirena-export-fixed.csv) и [этого](data/BoardingData.csv) файлов"
   ]
  },
  {
   "cell_type": "code",
   "execution_count": null,
   "id": "73619df3",
   "metadata": {},
   "outputs": [],
   "source": [
    "df_sirena = pd.read_csv('data/Sirena-export-fixed.csv')"
   ]
  },
  {
   "cell_type": "code",
   "execution_count": null,
   "id": "2fbf59b0",
   "metadata": {},
   "outputs": [],
   "source": [
    "df_boarding = pd.read_csv('data/BoardingData.csv', sep = ';')\n",
    "df_boarding['PassangerName'] = df_boarding['PassengerLastName'] + ' ' + df_boarding['PassengerFirstName']"
   ]
  },
  {
   "cell_type": "code",
   "execution_count": null,
   "id": "dcc0c2c5",
   "metadata": {},
   "outputs": [],
   "source": [
    "# Проверка - нет ли людей, менявших имя, или указавших разные данные\n",
    "dup1 = df_boarding[['PassengerDocument','PassangerName']].groupby('PassengerDocument')['PassangerName'].nunique()\n",
    "dup1 = dup1[dup1 > 1].index.tolist()\n",
    "print(f'Странные паспорта: {dup1}')\n",
    "if len(dup1) > 0:\n",
    "    print(df_boarding[df_boarding['PassengerDocument'].isin(dup1)][['PassangerName', 'PassengerDocument', 'PassengerBirthDate']].drop_duplicates())"
   ]
  },
  {
   "cell_type": "code",
   "execution_count": null,
   "id": "f52326a7",
   "metadata": {},
   "outputs": [],
   "source": [
    "data1, docs = merging.mergeDataPasports(df_sirena, df_boarding)"
   ]
  },
  {
   "cell_type": "code",
   "execution_count": null,
   "id": "d8a7ac33",
   "metadata": {},
   "outputs": [],
   "source": [
    "data1['ID'] = \"pass_\" + data1['PassengerDocument']\n",
    "data1.rename(columns={'Dest':'To','FlightDate':'Date'}, inplace=True)"
   ]
  },
  {
   "cell_type": "code",
   "execution_count": null,
   "id": "3486910d",
   "metadata": {},
   "outputs": [],
   "source": [
    "print('Соответствие загранпаспортов и паспортов РФ:')\n",
    "docs"
   ]
  },
  {
   "cell_type": "markdown",
   "id": "516f8064",
   "metadata": {},
   "source": [
    "## 2. Обработка данных, на основе уникальных номеров программ лояльности"
   ]
  },
  {
   "cell_type": "code",
   "execution_count": null,
   "id": "c96a7603",
   "metadata": {},
   "outputs": [],
   "source": [
    "df_airlines = pd.read_csv('data/PointzAggregator-AirlinesData.csv')\n",
    "df_airlines['uid'] = df_airlines['uid'].apply(str)"
   ]
  },
  {
   "cell_type": "code",
   "execution_count": null,
   "id": "c3f25c14",
   "metadata": {},
   "outputs": [],
   "source": [
    "df_exchange = pd.read_csv('data/SkyTeam-Exchange.csv')"
   ]
  },
  {
   "cell_type": "code",
   "execution_count": null,
   "id": "6e068fcf",
   "metadata": {},
   "outputs": [],
   "source": [
    "df_forum_b = pd.read_csv('data/FrequentFlyerForum-Profiles_Base.csv')\n",
    "df_forum_f = pd.read_csv('data/FrequentFlyerForum-Profiles_Flight.csv')\n",
    "df_forum_lp = pd.read_csv('data/FrequentFlyerForum-Profiles_LoyalityProgram.csv')\n",
    "df_forum = (df_forum_b,df_forum_f,df_forum_lp)"
   ]
  },
  {
   "cell_type": "code",
   "execution_count": null,
   "id": "30316c7f",
   "metadata": {},
   "outputs": [],
   "source": [
    "data2, strange, ids = merging.mergeLoyality(df_exchange, df_forum, df_airlines)"
   ]
  },
  {
   "cell_type": "code",
   "execution_count": null,
   "id": "66951368",
   "metadata": {},
   "outputs": [],
   "source": [
    "print('Нехорошие люди, использовавшие чужие программы лояльности:')\n",
    "strange"
   ]
  },
  {
   "cell_type": "markdown",
   "id": "21cc07fe",
   "metadata": {},
   "source": [
    "## 3. Слияние всего вместе"
   ]
  },
  {
   "cell_type": "code",
   "execution_count": null,
   "id": "7dc6f078",
   "metadata": {},
   "outputs": [],
   "source": [
    "# Соответствие ников, uid и паспорта\n",
    "ids = merging.mergeLoyalityIdNickPasports(df_sirena, ids)"
   ]
  },
  {
   "cell_type": "code",
   "execution_count": null,
   "id": "df865b26",
   "metadata": {},
   "outputs": [],
   "source": [
    "# Данные, о полётах из второй части данных\n",
    "data = pd.merge(data2, ids[['ID','FFKey']], on='FFKey', how='left')[['ID', 'Date','From','To']]\n",
    "data = data.dropna()"
   ]
  },
  {
   "cell_type": "code",
   "execution_count": null,
   "id": "81e42abc",
   "metadata": {},
   "outputs": [],
   "source": [
    "# Объединение всех данных о полётах вместе, для дальнейшей отрисовки\n",
    "data = pd.concat([data, data1[['ID','Date','From','To']]])"
   ]
  },
  {
   "cell_type": "code",
   "execution_count": null,
   "id": "a191bc12",
   "metadata": {},
   "outputs": [],
   "source": [
    "data"
   ]
  },
  {
   "cell_type": "markdown",
   "id": "66f49903",
   "metadata": {},
   "source": [
    "# Отрисовка графа полётов"
   ]
  },
  {
   "cell_type": "code",
   "execution_count": null,
   "id": "ddef2463",
   "metadata": {},
   "outputs": [],
   "source": [
    "airports = pd.read_csv('data/Airports.csv')"
   ]
  },
  {
   "cell_type": "code",
   "execution_count": null,
   "id": "217fc8a1",
   "metadata": {},
   "outputs": [],
   "source": [
    "data = visualization.get_dataframe_for_work(data, airports)"
   ]
  },
  {
   "cell_type": "code",
   "execution_count": null,
   "id": "4c8a877e",
   "metadata": {},
   "outputs": [],
   "source": [
    "visualization.create_flight_graph_app(data)"
   ]
  },
  {
   "cell_type": "code",
   "execution_count": null,
   "id": "009b66bf",
   "metadata": {},
   "outputs": [],
   "source": []
  },
  {
   "cell_type": "code",
   "execution_count": null,
   "id": "ec1b36d0",
   "metadata": {},
   "outputs": [],
   "source": []
  }
 ],
 "metadata": {
  "kernelspec": {
   "display_name": "Python 3 (ipykernel)",
   "language": "python",
   "name": "python3"
  },
  "language_info": {
   "codemirror_mode": {
    "name": "ipython",
    "version": 3
   },
   "file_extension": ".py",
   "mimetype": "text/x-python",
   "name": "python",
   "nbconvert_exporter": "python",
   "pygments_lexer": "ipython3",
   "version": "3.8.10"
  }
 },
 "nbformat": 4,
 "nbformat_minor": 5
}
