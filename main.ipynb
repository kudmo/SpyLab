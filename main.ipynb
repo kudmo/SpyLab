{
 "cells": [
  {
   "cell_type": "markdown",
   "id": "ba96fdcc",
   "metadata": {},
   "source": [
    "# Базовые библиотеки"
   ]
  },
  {
   "cell_type": "code",
   "execution_count": 1,
   "id": "7d10e22e",
   "metadata": {},
   "outputs": [],
   "source": [
    "import pandas as pd\n",
    "import os\n",
    "import warnings\n",
    "warnings.simplefilter('ignore')"
   ]
  },
  {
   "cell_type": "code",
   "execution_count": 2,
   "id": "cff6a998",
   "metadata": {},
   "outputs": [],
   "source": [
    "import data_extracting\n",
    "import merging\n",
    "import visualization"
   ]
  },
  {
   "cell_type": "code",
   "execution_count": 3,
   "id": "701e3702",
   "metadata": {},
   "outputs": [],
   "source": [
    "DATA_DIR = 'Airlines'\n",
    "DATA_EXPORTED = 'data'"
   ]
  },
  {
   "cell_type": "markdown",
   "id": "06f6c6d6",
   "metadata": {},
   "source": [
    "# Извлечение данных в формат CSV\n",
    "Запускать только если ещё нет экспортированных данных, так как некоторые функции могут работать существенное время"
   ]
  },
  {
   "cell_type": "code",
   "execution_count": null,
   "id": "d5a283b1",
   "metadata": {},
   "outputs": [],
   "source": [
    "os.mkdir(DATA_EXPORTED)"
   ]
  },
  {
   "cell_type": "code",
   "execution_count": null,
   "id": "2ef67350",
   "metadata": {},
   "outputs": [],
   "source": [
    "data = data_extracting.extractBoardingData(f'{DATA_DIR}/BoardingData.csv')\n",
    "data.to_csv(f'{DATA_EXPORTED}/BoardingData.csv', index=False)\n",
    "del data"
   ]
  },
  {
   "cell_type": "code",
   "execution_count": null,
   "id": "b8a0f091",
   "metadata": {},
   "outputs": [],
   "source": [
    "data = data_extracting.extractAirlinesData(f'{DATA_DIR}/PointzAggregator-AirlinesData.xml')\n",
    "data.to_csv(f'{DATA_EXPORTED}/PointzAggregator-AirlinesData.csv', index=False)\n",
    "del data"
   ]
  },
  {
   "cell_type": "code",
   "execution_count": null,
   "id": "501bafcf",
   "metadata": {},
   "outputs": [],
   "source": [
    "data = data_extracting.extractBoardingPass(f'{DATA_DIR}/YourBoardingPassDotAero.zip', clear_temp = True)\n",
    "data.to_csv(f'{DATA_EXPORTED}/YourBoardingPassDotAero.csv', index=False)\n",
    "del data"
   ]
  },
  {
   "cell_type": "code",
   "execution_count": null,
   "id": "e1e2d834",
   "metadata": {},
   "outputs": [],
   "source": [
    "data = data_extracting.extractFrequentFlyerForumProfiles(f'{DATA_DIR}/FrequentFlyerForum-Profiles.json')\n",
    "data[0].to_csv(f'{DATA_EXPORTED}/FrequentFlyerForum-Profiles_Base.csv', index=False)\n",
    "data[1].to_csv(f'{DATA_EXPORTED}/FrequentFlyerForum-Profiles_Flight.csv', index=False)\n",
    "data[2].to_csv(f'{DATA_EXPORTED}/FrequentFlyerForum-Profiles_LoyalityProgram.csv', index=False)\n",
    "del data"
   ]
  },
  {
   "cell_type": "code",
   "execution_count": null,
   "id": "83f87482",
   "metadata": {},
   "outputs": [],
   "source": [
    "data = data_extracting.extractSirenaExportFixed(f'{DATA_DIR}/Sirena-export-fixed.tab')\n",
    "data.to_csv(f'{DATA_EXPORTED}/Sirena-export-fixed.csv', index=False)\n",
    "del data"
   ]
  },
  {
   "cell_type": "code",
   "execution_count": null,
   "id": "53dd6dcb",
   "metadata": {},
   "outputs": [],
   "source": [
    "data = data_extracting.extractSkyTeamExchange(f'{DATA_DIR}/SkyTeam-Exchange.yaml')\n",
    "data.to_csv(f'{DATA_EXPORTED}/SkyTeam-Exchange.csv', index=False)\n",
    "del data"
   ]
  },
  {
   "cell_type": "code",
   "execution_count": null,
   "id": "c8be9cd8",
   "metadata": {},
   "outputs": [],
   "source": [
    "data = data_extracting.extractSkyteamTimetable(f'{DATA_DIR}/Skyteam_Timetable.pdf')\n",
    "data.to_csv(f'{DATA_EXPORTED}/Skyteam_Timetable.csv', index=False)\n",
    "del data"
   ]
  },
  {
   "cell_type": "markdown",
   "id": "2adda338",
   "metadata": {},
   "source": [
    "# Обработка данных"
   ]
  },
  {
   "cell_type": "markdown",
   "id": "2a833345",
   "metadata": {},
   "source": [
    "## 1. Обработка данных, с паспортами\n",
    "Слияние, очистка и обработка данных из [этого](data/Sirena-export-fixed.csv) и [этого](data/BoardingData.csv) файлов"
   ]
  },
  {
   "cell_type": "code",
   "execution_count": 4,
   "id": "73619df3",
   "metadata": {},
   "outputs": [],
   "source": [
    "df_sirena = pd.read_csv('data/Sirena-export-fixed.csv')"
   ]
  },
  {
   "cell_type": "code",
   "execution_count": 5,
   "id": "2fbf59b0",
   "metadata": {},
   "outputs": [],
   "source": [
    "df_boarding = pd.read_csv('data/BoardingData.csv', sep = ';')\n",
    "df_boarding['PassangerName'] = df_boarding['PassengerLastName'] + ' ' + df_boarding['PassengerFirstName']"
   ]
  },
  {
   "cell_type": "code",
   "execution_count": 6,
   "id": "dcc0c2c5",
   "metadata": {},
   "outputs": [
    {
     "name": "stdout",
     "output_type": "stream",
     "text": [
      "Странные паспорта: ['8248 013778']\n",
      "        PassangerName PassengerDocument PassengerBirthDate\n",
      "83246   GLEBOV GORDEI       8248 013778         12/31/1982\n",
      "150151    BUROV RAMIL       8248 013778         08/24/1995\n"
     ]
    }
   ],
   "source": [
    "# Проверка - нет ли людей, менявших имя, или указавших разные данные\n",
    "dup1 = df_boarding[['PassengerDocument','PassangerName']].groupby('PassengerDocument')['PassangerName'].nunique()\n",
    "dup1 = dup1[dup1 > 1].index.tolist()\n",
    "print(f'Странные паспорта: {dup1}')\n",
    "if len(dup1) > 0:\n",
    "    print(df_boarding[df_boarding['PassengerDocument'].isin(dup1)][['PassangerName', 'PassengerDocument', 'PassengerBirthDate']].drop_duplicates())"
   ]
  },
  {
   "cell_type": "code",
   "execution_count": 7,
   "id": "f52326a7",
   "metadata": {},
   "outputs": [],
   "source": [
    "data1, docs = merging.mergeDataPasports(df_sirena, df_boarding)"
   ]
  },
  {
   "cell_type": "code",
   "execution_count": 8,
   "id": "d8a7ac33",
   "metadata": {},
   "outputs": [],
   "source": [
    "data1['ID'] = \"pass_\" + data1['PassengerDocument']\n",
    "data1.rename(columns={'Dest':'To','FlightDate':'Date'}, inplace=True)"
   ]
  },
  {
   "cell_type": "code",
   "execution_count": 9,
   "id": "3486910d",
   "metadata": {},
   "outputs": [
    {
     "name": "stdout",
     "output_type": "stream",
     "text": [
      "Соответствие загранпаспортов и паспортов РФ:\n"
     ]
    },
    {
     "data": {
      "text/html": [
       "<div>\n",
       "<style scoped>\n",
       "    .dataframe tbody tr th:only-of-type {\n",
       "        vertical-align: middle;\n",
       "    }\n",
       "\n",
       "    .dataframe tbody tr th {\n",
       "        vertical-align: top;\n",
       "    }\n",
       "\n",
       "    .dataframe thead th {\n",
       "        text-align: right;\n",
       "    }\n",
       "</style>\n",
       "<table border=\"1\" class=\"dataframe\">\n",
       "  <thead>\n",
       "    <tr style=\"text-align: right;\">\n",
       "      <th></th>\n",
       "      <th>pass</th>\n",
       "      <th>PassengerDocument</th>\n",
       "    </tr>\n",
       "  </thead>\n",
       "  <tbody>\n",
       "    <tr>\n",
       "      <th>35</th>\n",
       "      <td>44 2285514</td>\n",
       "      <td>3342 036804</td>\n",
       "    </tr>\n",
       "    <tr>\n",
       "      <th>65</th>\n",
       "      <td>78 5386060</td>\n",
       "      <td>2924 413280</td>\n",
       "    </tr>\n",
       "    <tr>\n",
       "      <th>78</th>\n",
       "      <td>21 5558588</td>\n",
       "      <td>8508 948406</td>\n",
       "    </tr>\n",
       "    <tr>\n",
       "      <th>213</th>\n",
       "      <td>09 8507665</td>\n",
       "      <td>5237 499392</td>\n",
       "    </tr>\n",
       "    <tr>\n",
       "      <th>248</th>\n",
       "      <td>71 8104777</td>\n",
       "      <td>0085 524168</td>\n",
       "    </tr>\n",
       "    <tr>\n",
       "      <th>...</th>\n",
       "      <td>...</td>\n",
       "      <td>...</td>\n",
       "    </tr>\n",
       "    <tr>\n",
       "      <th>154890</th>\n",
       "      <td>48 5701014</td>\n",
       "      <td>5400 482368</td>\n",
       "    </tr>\n",
       "    <tr>\n",
       "      <th>154911</th>\n",
       "      <td>13 9652212</td>\n",
       "      <td>0977 338850</td>\n",
       "    </tr>\n",
       "    <tr>\n",
       "      <th>155061</th>\n",
       "      <td>27 8836096</td>\n",
       "      <td>9258 183384</td>\n",
       "    </tr>\n",
       "    <tr>\n",
       "      <th>155090</th>\n",
       "      <td>18 5258526</td>\n",
       "      <td>8436 085223</td>\n",
       "    </tr>\n",
       "    <tr>\n",
       "      <th>155198</th>\n",
       "      <td>58 5347666</td>\n",
       "      <td>1685 126926</td>\n",
       "    </tr>\n",
       "  </tbody>\n",
       "</table>\n",
       "<p>2976 rows × 2 columns</p>\n",
       "</div>"
      ],
      "text/plain": [
       "              pass PassengerDocument\n",
       "35      44 2285514       3342 036804\n",
       "65      78 5386060       2924 413280\n",
       "78      21 5558588       8508 948406\n",
       "213     09 8507665       5237 499392\n",
       "248     71 8104777       0085 524168\n",
       "...            ...               ...\n",
       "154890  48 5701014       5400 482368\n",
       "154911  13 9652212       0977 338850\n",
       "155061  27 8836096       9258 183384\n",
       "155090  18 5258526       8436 085223\n",
       "155198  58 5347666       1685 126926\n",
       "\n",
       "[2976 rows x 2 columns]"
      ]
     },
     "execution_count": 9,
     "metadata": {},
     "output_type": "execute_result"
    }
   ],
   "source": [
    "print('Соответствие загранпаспортов и паспортов РФ:')\n",
    "docs"
   ]
  },
  {
   "cell_type": "markdown",
   "id": "516f8064",
   "metadata": {},
   "source": [
    "## 2. Обработка данных, на основе уникальных номеров программ лояльности"
   ]
  },
  {
   "cell_type": "code",
   "execution_count": 10,
   "id": "c96a7603",
   "metadata": {},
   "outputs": [],
   "source": [
    "df_airlines = pd.read_csv('data/PointzAggregator-AirlinesData.csv')\n",
    "df_airlines['uid'] = df_airlines['uid'].apply(str)"
   ]
  },
  {
   "cell_type": "code",
   "execution_count": 11,
   "id": "c3f25c14",
   "metadata": {},
   "outputs": [],
   "source": [
    "df_exchange = pd.read_csv('data/SkyTeam-Exchange.csv')"
   ]
  },
  {
   "cell_type": "code",
   "execution_count": 12,
   "id": "6e068fcf",
   "metadata": {},
   "outputs": [],
   "source": [
    "df_forum_b = pd.read_csv('data/FrequentFlyerForum-Profiles_Base.csv')\n",
    "df_forum_f = pd.read_csv('data/FrequentFlyerForum-Profiles_Flight.csv')\n",
    "df_forum_lp = pd.read_csv('data/FrequentFlyerForum-Profiles_LoyalityProgram.csv')\n",
    "df_forum = (df_forum_b,df_forum_f,df_forum_lp)"
   ]
  },
  {
   "cell_type": "code",
   "execution_count": 13,
   "id": "30316c7f",
   "metadata": {},
   "outputs": [],
   "source": [
    "data2, strange, ids = merging.mergeLoyality(df_exchange, df_forum, df_airlines)"
   ]
  },
  {
   "cell_type": "code",
   "execution_count": 14,
   "id": "66951368",
   "metadata": {},
   "outputs": [
    {
     "name": "stdout",
     "output_type": "stream",
     "text": [
      "Нехорошие люди, использовавшие чужие программы лояльности:\n"
     ]
    },
    {
     "data": {
      "text/html": [
       "<div>\n",
       "<style scoped>\n",
       "    .dataframe tbody tr th:only-of-type {\n",
       "        vertical-align: middle;\n",
       "    }\n",
       "\n",
       "    .dataframe tbody tr th {\n",
       "        vertical-align: top;\n",
       "    }\n",
       "\n",
       "    .dataframe thead th {\n",
       "        text-align: right;\n",
       "    }\n",
       "</style>\n",
       "<table border=\"1\" class=\"dataframe\">\n",
       "  <thead>\n",
       "    <tr style=\"text-align: right;\">\n",
       "      <th></th>\n",
       "      <th>uid</th>\n",
       "      <th>FFKey</th>\n",
       "    </tr>\n",
       "  </thead>\n",
       "  <tbody>\n",
       "    <tr>\n",
       "      <th>3780</th>\n",
       "      <td>866799462</td>\n",
       "      <td>FB 139888197</td>\n",
       "    </tr>\n",
       "  </tbody>\n",
       "</table>\n",
       "</div>"
      ],
      "text/plain": [
       "            uid         FFKey\n",
       "3780  866799462  FB 139888197"
      ]
     },
     "execution_count": 14,
     "metadata": {},
     "output_type": "execute_result"
    }
   ],
   "source": [
    "print('Нехорошие люди, использовавшие чужие программы лояльности:')\n",
    "strange"
   ]
  },
  {
   "cell_type": "markdown",
   "id": "21cc07fe",
   "metadata": {},
   "source": [
    "## 3. Слияние всего вместе"
   ]
  },
  {
   "cell_type": "code",
   "execution_count": 15,
   "id": "7dc6f078",
   "metadata": {},
   "outputs": [],
   "source": [
    "# Соответствие ников, uid и паспорта\n",
    "ids = merging.mergeLoyalityIdNickPasports(df_sirena, ids)"
   ]
  },
  {
   "cell_type": "code",
   "execution_count": 16,
   "id": "df865b26",
   "metadata": {},
   "outputs": [],
   "source": [
    "# Данные, о полётах из второй части данных\n",
    "data = pd.merge(data2, ids[['ID','FFKey']], on='FFKey', how='left')[['ID', 'Date','From','To']]\n",
    "data = data.dropna()"
   ]
  },
  {
   "cell_type": "code",
   "execution_count": 17,
   "id": "81e42abc",
   "metadata": {},
   "outputs": [],
   "source": [
    "# Объединение всех данных о полётах вместе, для дальнейшей отрисовки\n",
    "data = pd.concat([data, data1[['ID','Date','From','To']]])"
   ]
  },
  {
   "cell_type": "code",
   "execution_count": 18,
   "id": "a191bc12",
   "metadata": {},
   "outputs": [
    {
     "data": {
      "text/html": [
       "<div>\n",
       "<style scoped>\n",
       "    .dataframe tbody tr th:only-of-type {\n",
       "        vertical-align: middle;\n",
       "    }\n",
       "\n",
       "    .dataframe tbody tr th {\n",
       "        vertical-align: top;\n",
       "    }\n",
       "\n",
       "    .dataframe thead th {\n",
       "        text-align: right;\n",
       "    }\n",
       "</style>\n",
       "<table border=\"1\" class=\"dataframe\">\n",
       "  <thead>\n",
       "    <tr style=\"text-align: right;\">\n",
       "      <th></th>\n",
       "      <th>ID</th>\n",
       "      <th>Date</th>\n",
       "      <th>From</th>\n",
       "      <th>To</th>\n",
       "    </tr>\n",
       "  </thead>\n",
       "  <tbody>\n",
       "    <tr>\n",
       "      <th>0</th>\n",
       "      <td>id_438181628</td>\n",
       "      <td>2017-01-01</td>\n",
       "      <td>SVO</td>\n",
       "      <td>CDG</td>\n",
       "    </tr>\n",
       "    <tr>\n",
       "      <th>1</th>\n",
       "      <td>id_438181628</td>\n",
       "      <td>2017-01-06</td>\n",
       "      <td>CDG</td>\n",
       "      <td>ZRH</td>\n",
       "    </tr>\n",
       "    <tr>\n",
       "      <th>2</th>\n",
       "      <td>id_438181628</td>\n",
       "      <td>2017-01-15</td>\n",
       "      <td>ZRH</td>\n",
       "      <td>AMS</td>\n",
       "    </tr>\n",
       "    <tr>\n",
       "      <th>3</th>\n",
       "      <td>id_438181628</td>\n",
       "      <td>2017-02-02</td>\n",
       "      <td>AMS</td>\n",
       "      <td>SXB</td>\n",
       "    </tr>\n",
       "    <tr>\n",
       "      <th>4</th>\n",
       "      <td>id_438181628</td>\n",
       "      <td>2017-02-03</td>\n",
       "      <td>SXB</td>\n",
       "      <td>AMS</td>\n",
       "    </tr>\n",
       "    <tr>\n",
       "      <th>...</th>\n",
       "      <td>...</td>\n",
       "      <td>...</td>\n",
       "      <td>...</td>\n",
       "      <td>...</td>\n",
       "    </tr>\n",
       "    <tr>\n",
       "      <th>155429</th>\n",
       "      <td>pass_3242 441269</td>\n",
       "      <td>2017-01-08</td>\n",
       "      <td>ARH</td>\n",
       "      <td>SVO</td>\n",
       "    </tr>\n",
       "    <tr>\n",
       "      <th>155435</th>\n",
       "      <td>pass_5860 040208</td>\n",
       "      <td>2017-02-14</td>\n",
       "      <td>VOG</td>\n",
       "      <td>SVO</td>\n",
       "    </tr>\n",
       "    <tr>\n",
       "      <th>155438</th>\n",
       "      <td>pass_4553 277857</td>\n",
       "      <td>2017-02-14</td>\n",
       "      <td>VOG</td>\n",
       "      <td>SVO</td>\n",
       "    </tr>\n",
       "    <tr>\n",
       "      <th>155439</th>\n",
       "      <td>pass_0282 596160</td>\n",
       "      <td>2017-05-18</td>\n",
       "      <td>SVO</td>\n",
       "      <td>ROV</td>\n",
       "    </tr>\n",
       "    <tr>\n",
       "      <th>155441</th>\n",
       "      <td>pass_3497 458395</td>\n",
       "      <td>2017-05-18</td>\n",
       "      <td>SVO</td>\n",
       "      <td>ROV</td>\n",
       "    </tr>\n",
       "  </tbody>\n",
       "</table>\n",
       "<p>1558331 rows × 4 columns</p>\n",
       "</div>"
      ],
      "text/plain": [
       "                      ID        Date From   To\n",
       "0           id_438181628  2017-01-01  SVO  CDG\n",
       "1           id_438181628  2017-01-06  CDG  ZRH\n",
       "2           id_438181628  2017-01-15  ZRH  AMS\n",
       "3           id_438181628  2017-02-02  AMS  SXB\n",
       "4           id_438181628  2017-02-03  SXB  AMS\n",
       "...                  ...         ...  ...  ...\n",
       "155429  pass_3242 441269  2017-01-08  ARH  SVO\n",
       "155435  pass_5860 040208  2017-02-14  VOG  SVO\n",
       "155438  pass_4553 277857  2017-02-14  VOG  SVO\n",
       "155439  pass_0282 596160  2017-05-18  SVO  ROV\n",
       "155441  pass_3497 458395  2017-05-18  SVO  ROV\n",
       "\n",
       "[1558331 rows x 4 columns]"
      ]
     },
     "execution_count": 18,
     "metadata": {},
     "output_type": "execute_result"
    }
   ],
   "source": [
    "data"
   ]
  },
  {
   "cell_type": "markdown",
   "id": "66f49903",
   "metadata": {},
   "source": [
    "# Отрисовка графа полётов"
   ]
  },
  {
   "cell_type": "code",
   "execution_count": null,
   "id": "ddef2463",
   "metadata": {},
   "outputs": [],
   "source": [
    "airports = pd.read_csv('data/Airports.csv')"
   ]
  },
  {
   "cell_type": "code",
   "execution_count": null,
   "id": "217fc8a1",
   "metadata": {},
   "outputs": [],
   "source": [
    "data = visualization.get_dataframe_for_work(data, airports)"
   ]
  },
  {
   "cell_type": "code",
   "execution_count": null,
   "id": "4c8a877e",
   "metadata": {},
   "outputs": [],
   "source": [
    "visualization.create_flight_graph_app(data)"
   ]
  },
  {
   "cell_type": "code",
   "execution_count": null,
   "id": "009b66bf",
   "metadata": {},
   "outputs": [],
   "source": []
  },
  {
   "cell_type": "code",
   "execution_count": null,
   "id": "ec1b36d0",
   "metadata": {},
   "outputs": [],
   "source": []
  }
 ],
 "metadata": {
  "kernelspec": {
   "display_name": "Python 3 (ipykernel)",
   "language": "python",
   "name": "python3"
  },
  "language_info": {
   "codemirror_mode": {
    "name": "ipython",
    "version": 3
   },
   "file_extension": ".py",
   "mimetype": "text/x-python",
   "name": "python",
   "nbconvert_exporter": "python",
   "pygments_lexer": "ipython3",
   "version": "3.8.10"
  }
 },
 "nbformat": 4,
 "nbformat_minor": 5
}
