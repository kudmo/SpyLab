{
 "cells": [
  {
   "cell_type": "markdown",
   "id": "ba96fdcc",
   "metadata": {},
   "source": [
    "# Базовые библиотеки"
   ]
  },
  {
   "cell_type": "code",
   "execution_count": 1,
   "id": "7d10e22e",
   "metadata": {},
   "outputs": [],
   "source": [
    "import pandas as pd\n",
    "import numpy as np\n",
    "import os"
   ]
  },
  {
   "cell_type": "code",
   "execution_count": 2,
   "id": "701e3702",
   "metadata": {},
   "outputs": [],
   "source": [
    "DATA_DIR = 'Airlines'\n",
    "DATA_EXPORTED = 'data'"
   ]
  },
  {
   "cell_type": "markdown",
   "id": "06f6c6d6",
   "metadata": {},
   "source": [
    "# Извлечение данных в формат CSV\n",
    "Запускать только если ещё нет экспортированных данных"
   ]
  },
  {
   "cell_type": "code",
   "execution_count": 3,
   "id": "ab3c1714",
   "metadata": {},
   "outputs": [],
   "source": [
    "import data_extracting"
   ]
  },
  {
   "cell_type": "code",
   "execution_count": 4,
   "id": "d5a283b1",
   "metadata": {},
   "outputs": [],
   "source": [
    "os.mkdir(DATA_EXPORTED)"
   ]
  },
  {
   "cell_type": "code",
   "execution_count": 5,
   "id": "2ef67350",
   "metadata": {},
   "outputs": [],
   "source": [
    "data = data_extracting.extractBoardingData(f'{DATA_DIR}/BoardingData.csv')\n",
    "data.to_csv(f'{DATA_EXPORTED}/BoardingData.csv')\n",
    "del data"
   ]
  },
  {
   "cell_type": "code",
   "execution_count": 6,
   "id": "b8a0f091",
   "metadata": {},
   "outputs": [],
   "source": [
    "data = data_extracting.extractAirlinesData(f'{DATA_DIR}/PointzAggregator-AirlinesData.xml')\n",
    "data.to_csv(f'{DATA_EXPORTED}/PointzAggregator-AirlinesData.csv')\n",
    "del data"
   ]
  },
  {
   "cell_type": "code",
   "execution_count": 7,
   "id": "501bafcf",
   "metadata": {},
   "outputs": [],
   "source": [
    "data = data_extracting.extractBoardingPass(f'{DATA_DIR}/YourBoardingPassDotAero.zip', clear_temp = True)\n",
    "data.to_csv(f'{DATA_EXPORTED}/YourBoardingPassDotAero.csv')\n",
    "del data"
   ]
  },
  {
   "cell_type": "code",
   "execution_count": 8,
   "id": "e1e2d834",
   "metadata": {},
   "outputs": [],
   "source": [
    "data = data_extracting.extractFrequentFlyerForumProfiles(f'{DATA_DIR}/FrequentFlyerForum-Profiles.json')\n",
    "data[0].to_csv(f'{DATA_EXPORTED}/FrequentFlyerForum-Profiles_Base.csv')\n",
    "data[1].to_csv(f'{DATA_EXPORTED}/FrequentFlyerForum-Profiles_Flight.csv')\n",
    "data[2].to_csv(f'{DATA_EXPORTED}/FrequentFlyerForum-Profiles_LoyalityProgram.csv')\n",
    "del data"
   ]
  },
  {
   "cell_type": "code",
   "execution_count": 9,
   "id": "83f87482",
   "metadata": {},
   "outputs": [],
   "source": [
    "data = data_extracting.extractSirenaExportFixed(f'{DATA_DIR}/Sirena-export-fixed.tab')\n",
    "data.to_csv(f'{DATA_EXPORTED}/Sirena-export-fixed.csv')\n",
    "del data"
   ]
  },
  {
   "cell_type": "code",
   "execution_count": 10,
   "id": "53dd6dcb",
   "metadata": {},
   "outputs": [],
   "source": [
    "data = data_extracting.extractSkyTeamExchange(f'{DATA_DIR}/SkyTeam-Exchange.yaml')\n",
    "data.to_csv(f'{DATA_EXPORTED}/SkyTeam-Exchange.csv')\n",
    "del data"
   ]
  },
  {
   "cell_type": "markdown",
   "id": "2adda338",
   "metadata": {},
   "source": [
    "# Обработка данных"
   ]
  },
  {
   "cell_type": "code",
   "execution_count": null,
   "id": "4546910e",
   "metadata": {},
   "outputs": [],
   "source": []
  }
 ],
 "metadata": {
  "kernelspec": {
   "display_name": "Python 3 (ipykernel)",
   "language": "python",
   "name": "python3"
  },
  "language_info": {
   "codemirror_mode": {
    "name": "ipython",
    "version": 3
   },
   "file_extension": ".py",
   "mimetype": "text/x-python",
   "name": "python",
   "nbconvert_exporter": "python",
   "pygments_lexer": "ipython3",
   "version": "3.10.15"
  }
 },
 "nbformat": 4,
 "nbformat_minor": 5
}
